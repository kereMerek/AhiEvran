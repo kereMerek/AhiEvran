{
 "cells": [
  {
   "cell_type": "markdown",
   "id": "6f618f12",
   "metadata": {},
   "source": [
    "Temel Matematik"
   ]
  },
  {
   "cell_type": "markdown",
   "id": "5034955e",
   "metadata": {},
   "source": [
    "Toplama (+)"
   ]
  },
  {
   "cell_type": "code",
   "execution_count": 1,
   "id": "2c0451de",
   "metadata": {},
   "outputs": [
    {
     "data": {
      "text/plain": [
       "9.3"
      ]
     },
     "execution_count": 1,
     "metadata": {},
     "output_type": "execute_result"
    }
   ],
   "source": [
    "a = 5.0\n",
    "b = 4.3\n",
    "c = a + b\n",
    "c"
   ]
  },
  {
   "cell_type": "markdown",
   "id": "7bdc3232",
   "metadata": {},
   "source": [
    "Çıkarma (-)"
   ]
  },
  {
   "cell_type": "code",
   "execution_count": 3,
   "id": "b06db56f",
   "metadata": {},
   "outputs": [
    {
     "data": {
      "text/plain": [
       "3.0"
      ]
     },
     "execution_count": 3,
     "metadata": {},
     "output_type": "execute_result"
    }
   ],
   "source": [
    "x = 6.0\n",
    "y = 3\n",
    "z = x-y\n",
    "z"
   ]
  },
  {
   "cell_type": "markdown",
   "id": "c5f178d4",
   "metadata": {},
   "source": [
    "Çarpma(*)"
   ]
  },
  {
   "cell_type": "code",
   "execution_count": 5,
   "id": "4b3ec1b9",
   "metadata": {},
   "outputs": [
    {
     "data": {
      "text/plain": [
       "20.0"
      ]
     },
     "execution_count": 5,
     "metadata": {},
     "output_type": "execute_result"
    }
   ],
   "source": [
    "i = 5\n",
    "j = 4.0\n",
    "k = i * j\n",
    "k "
   ]
  },
  {
   "cell_type": "markdown",
   "id": "997dd3fd",
   "metadata": {},
   "source": [
    "Bolme (/)"
   ]
  },
  {
   "cell_type": "code",
   "execution_count": 6,
   "id": "975ee605",
   "metadata": {},
   "outputs": [
    {
     "data": {
      "text/plain": [
       "3.0"
      ]
     },
     "execution_count": 6,
     "metadata": {},
     "output_type": "execute_result"
    }
   ],
   "source": [
    "t = 9\n",
    "r = 3\n",
    "q = t/r\n",
    "q"
   ]
  },
  {
   "cell_type": "markdown",
   "id": "db6fb92d",
   "metadata": {},
   "source": [
    "Tam Sayı Bölme (//)"
   ]
  },
  {
   "cell_type": "code",
   "execution_count": 9,
   "id": "3370ff0f",
   "metadata": {},
   "outputs": [
    {
     "data": {
      "text/plain": [
       "2"
      ]
     },
     "execution_count": 9,
     "metadata": {},
     "output_type": "execute_result"
    }
   ],
   "source": [
    "8//3"
   ]
  },
  {
   "cell_type": "markdown",
   "id": "37203368",
   "metadata": {},
   "source": [
    "Kalanı bulma - Mod alma(%)"
   ]
  },
  {
   "cell_type": "code",
   "execution_count": 10,
   "id": "f8502a1b",
   "metadata": {},
   "outputs": [
    {
     "data": {
      "text/plain": [
       "1"
      ]
     },
     "execution_count": 10,
     "metadata": {},
     "output_type": "execute_result"
    }
   ],
   "source": [
    "13 % 4"
   ]
  },
  {
   "cell_type": "markdown",
   "id": "d7bad6b5",
   "metadata": {},
   "source": [
    "Üs alma (**)"
   ]
  },
  {
   "cell_type": "code",
   "execution_count": 12,
   "id": "812d6541",
   "metadata": {},
   "outputs": [
    {
     "data": {
      "text/plain": [
       "256"
      ]
     },
     "execution_count": 12,
     "metadata": {},
     "output_type": "execute_result"
    }
   ],
   "source": [
    "4**4"
   ]
  },
  {
   "cell_type": "markdown",
   "id": "5e0f6320",
   "metadata": {},
   "source": [
    "İşaret Değiştirme (-)"
   ]
  },
  {
   "cell_type": "code",
   "execution_count": 14,
   "id": "0204869a",
   "metadata": {},
   "outputs": [
    {
     "data": {
      "text/plain": [
       "-4"
      ]
     },
     "execution_count": 14,
     "metadata": {},
     "output_type": "execute_result"
    }
   ],
   "source": [
    "a = 4\n",
    "-a"
   ]
  },
  {
   "cell_type": "markdown",
   "id": "12f4db49",
   "metadata": {},
   "source": [
    "Operatör Önceliği\n",
    "1- Parantez içi her zaman önce yapılır.\n",
    "2- Çarpma , Bölme her zaman toplama ve çıkarmadan önce yapılır.\n",
    "3- İşlemler soldan sağa yapılır."
   ]
  },
  {
   "cell_type": "code",
   "execution_count": null,
   "id": "01c638de",
   "metadata": {},
   "outputs": [],
   "source": []
  }
 ],
 "metadata": {
  "kernelspec": {
   "display_name": "Python 3 (ipykernel)",
   "language": "python",
   "name": "python3"
  },
  "language_info": {
   "codemirror_mode": {
    "name": "ipython",
    "version": 3
   },
   "file_extension": ".py",
   "mimetype": "text/x-python",
   "name": "python",
   "nbconvert_exporter": "python",
   "pygments_lexer": "ipython3",
   "version": "3.11.4"
  }
 },
 "nbformat": 4,
 "nbformat_minor": 5
}
