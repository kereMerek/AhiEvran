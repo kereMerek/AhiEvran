{
 "cells": [
  {
   "cell_type": "code",
   "execution_count": 2,
   "id": "54ed060c",
   "metadata": {},
   "outputs": [
    {
     "name": "stdout",
     "output_type": "stream",
     "text": [
      "9\n"
     ]
    }
   ],
   "source": [
    "a = 5\n",
    "b = 4\n",
    "c = a+b\n",
    "print(c)"
   ]
  },
  {
   "cell_type": "code",
   "execution_count": 3,
   "id": "5c86ad80",
   "metadata": {},
   "outputs": [
    {
     "name": "stdout",
     "output_type": "stream",
     "text": [
      "cumhur torun\n"
     ]
    }
   ],
   "source": [
    "ad = \"cumhur torun\"\n",
    "print(ad)"
   ]
  },
  {
   "cell_type": "markdown",
   "id": "b36e97f6",
   "metadata": {},
   "source": [
    "Stringlerde Özel Karakterler "
   ]
  },
  {
   "cell_type": "code",
   "execution_count": 5,
   "id": "29e5e880",
   "metadata": {},
   "outputs": [
    {
     "name": "stdout",
     "output_type": "stream",
     "text": [
      "Merhaba\n",
      "Nasılsın\n",
      "İyi misin ?\n"
     ]
    }
   ],
   "source": [
    "print(\"Merhaba\\nNasılsın\\nİyi misin ?\")"
   ]
  },
  {
   "cell_type": "code",
   "execution_count": 8,
   "id": "ae42eae8",
   "metadata": {},
   "outputs": [
    {
     "name": "stdout",
     "output_type": "stream",
     "text": [
      "Ocak\tŞubat\tMart\tNisan\n",
      "Mayıs\tHaziran\tTemmuz\tAğustos\n",
      "Eylül\tEkim\tKasım\tAralık\n"
     ]
    }
   ],
   "source": [
    "print(\"Ocak\\tŞubat\\tMart\\tNisan\")\n",
    "print(\"Mayıs\\tHaziran\\tTemmuz\\tAğustos\")\n",
    "print(\"Eylül\\tEkim\\tKasım\\tAralık\")"
   ]
  },
  {
   "cell_type": "markdown",
   "id": "bd648ee4",
   "metadata": {},
   "source": [
    "type() Fonksiyonu = Değişkenin türünü verir"
   ]
  },
  {
   "cell_type": "code",
   "execution_count": 9,
   "id": "f9598981",
   "metadata": {},
   "outputs": [
    {
     "name": "stdout",
     "output_type": "stream",
     "text": [
      "<class 'int'>\n"
     ]
    }
   ],
   "source": [
    "a = 5\n",
    "print(type(a))"
   ]
  },
  {
   "cell_type": "code",
   "execution_count": 10,
   "id": "b466846c",
   "metadata": {},
   "outputs": [
    {
     "name": "stdout",
     "output_type": "stream",
     "text": [
      "<class 'float'>\n"
     ]
    }
   ],
   "source": [
    "b = 5.0\n",
    "print(type(b))"
   ]
  },
  {
   "cell_type": "code",
   "execution_count": 12,
   "id": "f797d52c",
   "metadata": {},
   "outputs": [
    {
     "name": "stdout",
     "output_type": "stream",
     "text": [
      "<class 'str'>\n"
     ]
    }
   ],
   "source": [
    "c = \"cumhur\"\n",
    "print(type(c))"
   ]
  },
  {
   "cell_type": "markdown",
   "id": "ccb7881f",
   "metadata": {},
   "source": [
    "# Print Komutunun Özellikleri"
   ]
  },
  {
   "cell_type": "markdown",
   "id": "d36a1ca2",
   "metadata": {},
   "source": [
    "sep parametresi"
   ]
  },
  {
   "cell_type": "code",
   "execution_count": 16,
   "id": "7ea6b1c6",
   "metadata": {},
   "outputs": [
    {
     "name": "stdout",
     "output_type": "stream",
     "text": [
      "3 4 5 6 7 8 9\n"
     ]
    }
   ],
   "source": [
    "print(3,4,5,6,7,8,9)"
   ]
  },
  {
   "cell_type": "code",
   "execution_count": 15,
   "id": "2d32f8e9",
   "metadata": {},
   "outputs": [
    {
     "name": "stdout",
     "output_type": "stream",
     "text": [
      "3.4.5.6.7.8.9\n"
     ]
    }
   ],
   "source": [
    "print(3,4,5,6,7,8,9,sep=\".\")"
   ]
  },
  {
   "cell_type": "code",
   "execution_count": 17,
   "id": "78c10fc4",
   "metadata": {},
   "outputs": [
    {
     "name": "stdout",
     "output_type": "stream",
     "text": [
      "14/08/1982\n"
     ]
    }
   ],
   "source": [
    "print(\"14\",\"08\",\"1982\",sep=\"/\")"
   ]
  },
  {
   "cell_type": "code",
   "execution_count": 18,
   "id": "19b85719",
   "metadata": {},
   "outputs": [
    {
     "name": "stdout",
     "output_type": "stream",
     "text": [
      "Ahi\n",
      "Evran\n",
      "MTAL\n"
     ]
    }
   ],
   "source": [
    "print(\"Ahi\",\"Evran\",\"MTAL\",sep=\"\\n\")"
   ]
  },
  {
   "cell_type": "markdown",
   "id": "c25e5bc4",
   "metadata": {},
   "source": [
    "yıldızlı parametre"
   ]
  },
  {
   "cell_type": "code",
   "execution_count": 20,
   "id": "9123fcd7",
   "metadata": {},
   "outputs": [
    {
     "name": "stdout",
     "output_type": "stream",
     "text": [
      "P y t h o n\n"
     ]
    }
   ],
   "source": [
    "print(*\"Python\")"
   ]
  },
  {
   "cell_type": "code",
   "execution_count": 21,
   "id": "19277d59",
   "metadata": {},
   "outputs": [
    {
     "name": "stdout",
     "output_type": "stream",
     "text": [
      "P\n",
      "y\n",
      "t\n",
      "h\n",
      "o\n",
      "n\n"
     ]
    }
   ],
   "source": [
    "print(*\"Python\",sep=\"\\n\")"
   ]
  },
  {
   "cell_type": "code",
   "execution_count": 24,
   "id": "7ffef4fa",
   "metadata": {},
   "outputs": [
    {
     "name": "stdout",
     "output_type": "stream",
     "text": [
      "T.B.M.M\n"
     ]
    }
   ],
   "source": [
    "print(*\"TBMM\",sep=\".\")"
   ]
  },
  {
   "cell_type": "code",
   "execution_count": 27,
   "id": "1c253a0e",
   "metadata": {},
   "outputs": [
    {
     "name": "stdout",
     "output_type": "stream",
     "text": [
      "P\ty\tt\th\to\tn\n"
     ]
    }
   ],
   "source": [
    "print(*\"Python\",sep=\"\\t\")"
   ]
  },
  {
   "cell_type": "markdown",
   "id": "8d861a80",
   "metadata": {},
   "source": [
    "# Formatlama"
   ]
  },
  {
   "cell_type": "code",
   "execution_count": 28,
   "id": "d6900f62",
   "metadata": {},
   "outputs": [
    {
     "name": "stdout",
     "output_type": "stream",
     "text": [
      "3 + 4 ' ün toplamı 7 ' dir'\n"
     ]
    }
   ],
   "source": [
    "a = 3\n",
    "b = 4\n",
    "print(\"{} + {} ' ün toplamı {} ' dir'\".format(a,b,a+b))"
   ]
  },
  {
   "cell_type": "code",
   "execution_count": 29,
   "id": "46d81f89",
   "metadata": {},
   "outputs": [
    {
     "name": "stdout",
     "output_type": "stream",
     "text": [
      "9 , 5 , 7\n"
     ]
    }
   ],
   "source": [
    "x = 5\n",
    "y = 7\n",
    "z = 9\n",
    "print(\"{2} , {0} , {1}\".format(x,y,z))"
   ]
  },
  {
   "cell_type": "code",
   "execution_count": 31,
   "id": "95470286",
   "metadata": {},
   "outputs": [
    {
     "name": "stdout",
     "output_type": "stream",
     "text": [
      "3.14 , 5.621\n"
     ]
    }
   ],
   "source": [
    "n = 3.142151324\n",
    "m = 5.62131255678\n",
    "print(\"{:.2f} , {:.3f}\".format(n,m))"
   ]
  },
  {
   "cell_type": "code",
   "execution_count": null,
   "id": "2d209a07",
   "metadata": {},
   "outputs": [],
   "source": []
  }
 ],
 "metadata": {
  "kernelspec": {
   "display_name": "Python 3 (ipykernel)",
   "language": "python",
   "name": "python3"
  },
  "language_info": {
   "codemirror_mode": {
    "name": "ipython",
    "version": 3
   },
   "file_extension": ".py",
   "mimetype": "text/x-python",
   "name": "python",
   "nbconvert_exporter": "python",
   "pygments_lexer": "ipython3",
   "version": "3.11.4"
  }
 },
 "nbformat": 4,
 "nbformat_minor": 5
}
