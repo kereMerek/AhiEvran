{
 "cells": [
  {
   "cell_type": "markdown",
   "id": "bbb775aa",
   "metadata": {},
   "source": [
    "Kullanıcıdan veri almak için kullanılan komut = input() komutudur"
   ]
  },
  {
   "cell_type": "code",
   "execution_count": 3,
   "id": "7c9478c4",
   "metadata": {},
   "outputs": [
    {
     "name": "stdout",
     "output_type": "stream",
     "text": [
      "niggers\n"
     ]
    }
   ],
   "source": [
    "a=input()"
   ]
  },
  {
   "cell_type": "code",
   "execution_count": 9,
   "id": "94b001ac",
   "metadata": {},
   "outputs": [
    {
     "name": "stdout",
     "output_type": "stream",
     "text": [
      "Adınızı Girin: Mohammad C4\n",
      "Hoş Geldin 5\n"
     ]
    }
   ],
   "source": [
    "ad=input(\"Adınızı Girin: \")\n",
    "print(\"Hoş Geldin\",x)"
   ]
  },
  {
   "cell_type": "code",
   "execution_count": 11,
   "id": "5eab5883",
   "metadata": {},
   "outputs": [
    {
     "name": "stdout",
     "output_type": "stream",
     "text": [
      "Birinci Sayıyı Girin:3\n",
      "İkinci sayıyı girin:1\n",
      "31\n"
     ]
    }
   ],
   "source": [
    "x = input(\"Birinci Sayıyı Girin:\")\n",
    "y = input(\"İkinci sayıyı girin:\")\n",
    "z=x+y\n",
    "print(z)"
   ]
  },
  {
   "cell_type": "code",
   "execution_count": 10,
   "id": "9656f7af",
   "metadata": {},
   "outputs": [
    {
     "name": "stdout",
     "output_type": "stream",
     "text": [
      "<class 'str'>\n",
      "<class 'str'>\n"
     ]
    }
   ],
   "source": [
    "print(type(ad))\n",
    "print(type(x))"
   ]
  },
  {
   "cell_type": "code",
   "execution_count": 17,
   "id": "8672c173",
   "metadata": {},
   "outputs": [
    {
     "name": "stdout",
     "output_type": "stream",
     "text": [
      "Birinci sayıyı girin:2\n",
      "İkinci sayıyı girin:2\n",
      "Girilen sayıların toplamı:4\n",
      "Girilen sayıların toplamı: 4\n"
     ]
    }
   ],
   "source": [
    "a=int(input(\"Birinci sayıyı girin:\"))\n",
    "b=int(input(\"İkinci sayıyı girin:\"))\n",
    "c=a+b\n",
    "print(\"Girilen sayıların toplamı:{}\".format(c))\n",
    "print(\"Girilen sayıların toplamı:\",c)"
   ]
  },
  {
   "cell_type": "code",
   "execution_count": null,
   "id": "10ada028",
   "metadata": {},
   "outputs": [],
   "source": []
  }
 ],
 "metadata": {
  "kernelspec": {
   "display_name": "Python 3 (ipykernel)",
   "language": "python",
   "name": "python3"
  },
  "language_info": {
   "codemirror_mode": {
    "name": "ipython",
    "version": 3
   },
   "file_extension": ".py",
   "mimetype": "text/x-python",
   "name": "python",
   "nbconvert_exporter": "python",
   "pygments_lexer": "ipython3",
   "version": "3.11.4"
  }
 },
 "nbformat": 4,
 "nbformat_minor": 5
}
