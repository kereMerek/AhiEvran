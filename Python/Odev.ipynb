{
 "cells": [
  {
   "cell_type": "code",
   "execution_count": 2,
   "id": "d935690b",
   "metadata": {},
   "outputs": [
    {
     "name": "stdout",
     "output_type": "stream",
     "text": [
      "Birinci sayıyı giriniz:2\n",
      "İkinci sayıyı giriniz:2\n",
      "Üçüncü sayıyı giriniz:2\n",
      "2,2,2 sayılarının çarpımı:8\n"
     ]
    }
   ],
   "source": [
    "#Problem 1\n",
    "x=int(input(\"Birinci sayıyı giriniz:\"))\n",
    "y=int(input(\"İkinci sayıyı giriniz:\"))\n",
    "z=int(input(\"Üçüncü sayıyı giriniz:\"))\n",
    "sonuc=x*z*y\n",
    "print(\"{},{},{} sayılarının çarpımı:{}\".format(x,y,z,sonuc))"
   ]
  },
  {
   "cell_type": "code",
   "execution_count": 7,
   "id": "245354ec",
   "metadata": {},
   "outputs": [
    {
     "name": "stdout",
     "output_type": "stream",
     "text": [
      "Lütfen kilonuzu giriniz:120\n",
      "Lütfen boyunuzu giriniz:1.77\n",
      "Boy kilo indeksi : 38.30316958728334\n"
     ]
    }
   ],
   "source": [
    "#Problem 2\n",
    "kilo=int(input(\"Lütfen kilonuzu giriniz:\"))\n",
    "boy=float(input(\"Lütfen boyunuzu giriniz:\"))\n",
    "bki=kilo/(boy*boy)\n",
    "print(\"Boy kilo indeksi :\",bki)"
   ]
  },
  {
   "cell_type": "code",
   "execution_count": 9,
   "id": "d8e9b73a",
   "metadata": {},
   "outputs": [
    {
     "name": "stdout",
     "output_type": "stream",
     "text": [
      "Aracınız kilometre de ne kadar yakıyor:1.09\n",
      "Aracınız kaç kilometre gidiyor:2094.14\n",
      "Ödemeniz gereken tutar: 2282.6126 TL\n"
     ]
    }
   ],
   "source": [
    "#Problem 3\n",
    "x=float(input(\"Aracınız kilometre de ne kadar yakıyor:\"))\n",
    "y=float(input(\"Aracınız kaç kilometre gidiyor:\"))\n",
    "arac=x*y\n",
    "print(\"Ödemeniz gereken tutar:\",arac,\"TL\")"
   ]
  },
  {
   "cell_type": "code",
   "execution_count": 11,
   "id": "a8df3d54",
   "metadata": {},
   "outputs": [
    {
     "name": "stdout",
     "output_type": "stream",
     "text": [
      "Adınızı giriniz:Ahmet\n",
      "Soyadınızı giriniz:Özyavuz\n",
      "Numaranızı giriniz:05519460498\n",
      "Ahmet\n",
      "Özyavuz\n",
      "5519460498\n",
      "\n"
     ]
    }
   ],
   "source": [
    "#Problem 4\n",
    "ad=input(\"Adınızı giriniz:\")\n",
    "soyad=input(\"Soyadınızı giriniz:\")\n",
    "numara=int(input(\"Numaranızı giriniz:\"))\n",
    "print(\"{}\\n{}\\n{}\\n\".format(ad,soyad,numara))"
   ]
  },
  {
   "cell_type": "code",
   "execution_count": 20,
   "id": "b4b6983e",
   "metadata": {},
   "outputs": [
    {
     "name": "stdout",
     "output_type": "stream",
     "text": [
      "Birinci sayıyı giriniz:7\n",
      "İkinci sayıyı giriniz:1\n",
      "X in değeri: 7\n",
      "Y nin değeri: 1\n",
      "\n",
      "X in değeri: 1\n",
      "Y nin değeri: 7\n"
     ]
    }
   ],
   "source": [
    "#Problem 5\n",
    "x=int(input(\"Birinci sayıyı giriniz:\"))\n",
    "y=int(input(\"İkinci sayıyı giriniz:\"))\n",
    "print(\"X in değeri:\",x)\n",
    "print(\"Y nin değeri:\",y)\n",
    "x,y=y,x\n",
    "print(\"\")\n",
    "print(\"X in değeri:\",x)\n",
    "print(\"Y nin değeri:\",y)"
   ]
  },
  {
   "cell_type": "code",
   "execution_count": 19,
   "id": "342a975f",
   "metadata": {},
   "outputs": [
    {
     "name": "stdout",
     "output_type": "stream",
     "text": [
      "Dik olan kenarı giriniz:2\n",
      "İkinci kenarı giriniz:2\n",
      "Girilen dik üçgenin hipotenüsü: 2.8284271247461903\n"
     ]
    }
   ],
   "source": [
    "#Problem 6 \n",
    "a=int(input(\"Dik olan kenarı giriniz:\"))\n",
    "b=int(input(\"İkinci kenarı giriniz:\"))\n",
    "c= (a*a + b*b) ** 0.5\n",
    "print(\"Girilen dik üçgenin hipotenüsü:\",c)\n"
   ]
  },
  {
   "cell_type": "code",
   "execution_count": null,
   "id": "a92555d5",
   "metadata": {},
   "outputs": [],
   "source": []
  }
 ],
 "metadata": {
  "kernelspec": {
   "display_name": "Python 3 (ipykernel)",
   "language": "python",
   "name": "python3"
  },
  "language_info": {
   "codemirror_mode": {
    "name": "ipython",
    "version": 3
   },
   "file_extension": ".py",
   "mimetype": "text/x-python",
   "name": "python",
   "nbconvert_exporter": "python",
   "pygments_lexer": "ipython3",
   "version": "3.11.4"
  }
 },
 "nbformat": 4,
 "nbformat_minor": 5
}
