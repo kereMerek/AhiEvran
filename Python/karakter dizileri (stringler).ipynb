{
 "cells": [
  {
   "cell_type": "markdown",
   "id": "5c2694f8",
   "metadata": {},
   "source": [
    "Karakter Dizileri - Stringler"
   ]
  },
  {
   "cell_type": "code",
   "execution_count": 1,
   "id": "d232dec5",
   "metadata": {},
   "outputs": [],
   "source": [
    "ad = \"cumhur\"\n",
    "soyad = 'torun'\n",
    "okul = \"\"\"Ahi Evran MTAL\"\"\""
   ]
  },
  {
   "cell_type": "code",
   "execution_count": 5,
   "id": "d53b405f",
   "metadata": {},
   "outputs": [
    {
     "data": {
      "text/plain": [
       "\"cumhur' un okulu\""
      ]
     },
     "execution_count": 5,
     "metadata": {},
     "output_type": "execute_result"
    }
   ],
   "source": [
    "veri =\"\"\"cumhur' un okulu\"\"\"\n",
    "veri"
   ]
  },
  {
   "cell_type": "code",
   "execution_count": 6,
   "id": "a355484c",
   "metadata": {},
   "outputs": [
    {
     "data": {
      "text/plain": [
       "'Cumhur \"okula git.\" dedi'"
      ]
     },
     "execution_count": 6,
     "metadata": {},
     "output_type": "execute_result"
    }
   ],
   "source": [
    "veri2= 'Cumhur \"okula git.\" dedi'\n",
    "veri2"
   ]
  },
  {
   "cell_type": "markdown",
   "id": "9b0b56cb",
   "metadata": {},
   "source": [
    "String Indexle ve Parçalama"
   ]
  },
  {
   "cell_type": "code",
   "execution_count": 8,
   "id": "b28dadf8",
   "metadata": {},
   "outputs": [
    {
     "data": {
      "text/plain": [
       "8"
      ]
     },
     "execution_count": 8,
     "metadata": {},
     "output_type": "execute_result"
    }
   ],
   "source": [
    "a = \"muhammet\""
   ]
  },
  {
   "cell_type": "code",
   "execution_count": 9,
   "id": "86cd9b37",
   "metadata": {},
   "outputs": [
    {
     "data": {
      "text/plain": [
       "'h'"
      ]
     },
     "execution_count": 9,
     "metadata": {},
     "output_type": "execute_result"
    }
   ],
   "source": [
    "a[2]"
   ]
  },
  {
   "cell_type": "code",
   "execution_count": 11,
   "id": "3e78a3b8",
   "metadata": {},
   "outputs": [
    {
     "data": {
      "text/plain": [
       "'t'"
      ]
     },
     "execution_count": 11,
     "metadata": {},
     "output_type": "execute_result"
    }
   ],
   "source": [
    "a[-1]"
   ]
  },
  {
   "cell_type": "code",
   "execution_count": 12,
   "id": "663ca2bc",
   "metadata": {},
   "outputs": [
    {
     "data": {
      "text/plain": [
       "'e'"
      ]
     },
     "execution_count": 12,
     "metadata": {},
     "output_type": "execute_result"
    }
   ],
   "source": [
    "a[-2]"
   ]
  },
  {
   "cell_type": "markdown",
   "id": "ff627dac",
   "metadata": {},
   "source": [
    "Aradan Parça Alma"
   ]
  },
  {
   "cell_type": "code",
   "execution_count": 14,
   "id": "65532f6f",
   "metadata": {},
   "outputs": [
    {
     "data": {
      "text/plain": [
       "'on Pro'"
      ]
     },
     "execution_count": 14,
     "metadata": {},
     "output_type": "execute_result"
    }
   ],
   "source": [
    "x= \"Python Programlama Dili\"\n",
    "x[4:10]"
   ]
  },
  {
   "cell_type": "code",
   "execution_count": 15,
   "id": "8c86725e",
   "metadata": {},
   "outputs": [
    {
     "data": {
      "text/plain": [
       "'Python '"
      ]
     },
     "execution_count": 15,
     "metadata": {},
     "output_type": "execute_result"
    }
   ],
   "source": [
    "x[:7]"
   ]
  },
  {
   "cell_type": "code",
   "execution_count": 17,
   "id": "d10fd4f6",
   "metadata": {},
   "outputs": [
    {
     "data": {
      "text/plain": [
       "'Programlama Dili'"
      ]
     },
     "execution_count": 17,
     "metadata": {},
     "output_type": "execute_result"
    }
   ],
   "source": [
    "x[7:]"
   ]
  },
  {
   "cell_type": "code",
   "execution_count": 18,
   "id": "1f554ad2",
   "metadata": {},
   "outputs": [
    {
     "data": {
      "text/plain": [
       "'Python Programlama Dili'"
      ]
     },
     "execution_count": 18,
     "metadata": {},
     "output_type": "execute_result"
    }
   ],
   "source": [
    "x[:]"
   ]
  },
  {
   "cell_type": "code",
   "execution_count": 23,
   "id": "dd730d47",
   "metadata": {},
   "outputs": [
    {
     "data": {
      "text/plain": [
       "'ma Dili'"
      ]
     },
     "execution_count": 23,
     "metadata": {},
     "output_type": "execute_result"
    }
   ],
   "source": [
    "x[-7:]"
   ]
  },
  {
   "cell_type": "code",
   "execution_count": 24,
   "id": "d4dbb04c",
   "metadata": {},
   "outputs": [
    {
     "data": {
      "text/plain": [
       "'Python Programla'"
      ]
     },
     "execution_count": 24,
     "metadata": {},
     "output_type": "execute_result"
    }
   ],
   "source": [
    "x[:-7]"
   ]
  },
  {
   "cell_type": "code",
   "execution_count": 27,
   "id": "805a56c4",
   "metadata": {},
   "outputs": [
    {
     "data": {
      "text/plain": [
       "'Python Programlama Dili'"
      ]
     },
     "execution_count": 27,
     "metadata": {},
     "output_type": "execute_result"
    }
   ],
   "source": [
    "x[:]"
   ]
  },
  {
   "cell_type": "code",
   "execution_count": 26,
   "id": "4b577cc5",
   "metadata": {},
   "outputs": [
    {
     "data": {
      "text/plain": [
       "'Pto rgalm ii'"
      ]
     },
     "execution_count": 26,
     "metadata": {},
     "output_type": "execute_result"
    }
   ],
   "source": [
    "x[: : 2]"
   ]
  },
  {
   "cell_type": "code",
   "execution_count": 29,
   "id": "aa3ae099",
   "metadata": {},
   "outputs": [
    {
     "data": {
      "text/plain": [
       "'o rg'"
      ]
     },
     "execution_count": 29,
     "metadata": {},
     "output_type": "execute_result"
    }
   ],
   "source": [
    "x[4 : 12 : 2]"
   ]
  },
  {
   "cell_type": "code",
   "execution_count": 30,
   "id": "714b4e96",
   "metadata": {},
   "outputs": [
    {
     "data": {
      "text/plain": [
       "'iliD amalmargorP nohtyP'"
      ]
     },
     "execution_count": 30,
     "metadata": {},
     "output_type": "execute_result"
    }
   ],
   "source": [
    "x[: : -1]"
   ]
  },
  {
   "cell_type": "code",
   "execution_count": 37,
   "id": "682c5a57",
   "metadata": {},
   "outputs": [
    {
     "data": {
      "text/plain": [
       "'tP'"
      ]
     },
     "execution_count": 37,
     "metadata": {},
     "output_type": "execute_result"
    }
   ],
   "source": [
    "x[2: : -2]"
   ]
  },
  {
   "cell_type": "markdown",
   "id": "5dffbe49",
   "metadata": {},
   "source": [
    "String Özellik"
   ]
  },
  {
   "cell_type": "code",
   "execution_count": 40,
   "id": "542fd6ac",
   "metadata": {},
   "outputs": [
    {
     "data": {
      "text/plain": [
       "6"
      ]
     },
     "execution_count": 40,
     "metadata": {},
     "output_type": "execute_result"
    }
   ],
   "source": [
    "x = \"Python\"\n",
    "len(x)"
   ]
  },
  {
   "cell_type": "code",
   "execution_count": 41,
   "id": "7629208d",
   "metadata": {},
   "outputs": [
    {
     "data": {
      "text/plain": [
       "'P'"
      ]
     },
     "execution_count": 41,
     "metadata": {},
     "output_type": "execute_result"
    }
   ],
   "source": [
    "x[0]"
   ]
  },
  {
   "cell_type": "code",
   "execution_count": 45,
   "id": "c1cd8f83",
   "metadata": {},
   "outputs": [
    {
     "data": {
      "text/plain": [
       "'cumhur torun'"
      ]
     },
     "execution_count": 45,
     "metadata": {},
     "output_type": "execute_result"
    }
   ],
   "source": [
    "ad= \"cumhur \"\n",
    "soyad = \"torun\"\n",
    "kullanici_adi = ad+soyad\n",
    "kullanici_adi"
   ]
  },
  {
   "cell_type": "code",
   "execution_count": 49,
   "id": "90d2fac2",
   "metadata": {},
   "outputs": [
    {
     "data": {
      "text/plain": [
       "'cumhur cumhur cumhur '"
      ]
     },
     "execution_count": 49,
     "metadata": {},
     "output_type": "execute_result"
    }
   ],
   "source": [
    "ad * 3"
   ]
  },
  {
   "cell_type": "code",
   "execution_count": null,
   "id": "02f4edfc",
   "metadata": {},
   "outputs": [],
   "source": []
  }
 ],
 "metadata": {
  "kernelspec": {
   "display_name": "Python 3 (ipykernel)",
   "language": "python",
   "name": "python3"
  },
  "language_info": {
   "codemirror_mode": {
    "name": "ipython",
    "version": 3
   },
   "file_extension": ".py",
   "mimetype": "text/x-python",
   "name": "python",
   "nbconvert_exporter": "python",
   "pygments_lexer": "ipython3",
   "version": "3.11.4"
  }
 },
 "nbformat": 4,
 "nbformat_minor": 5
}
